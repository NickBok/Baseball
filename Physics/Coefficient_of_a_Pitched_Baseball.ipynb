{
 "cells": [
  {
   "attachments": {},
   "cell_type": "markdown",
   "metadata": {},
   "source": [
    "# **Coefficient of a Pitched Baseball**\n",
    "Author: Declan Costello\n",
    "\n",
    "Date: 7/23/2023"
   ]
  },
  {
   "attachments": {},
   "cell_type": "markdown",
   "metadata": {},
   "source": [
    "## **Overview**\n",
    "\n",
    "In this analysis, I used Python to recreate [\"Simplified Models for the Drag\n",
    "Coefficient of a Pitched Baseball\" by David Kagan & Alan M. Nathan](http://baseball.physics.illinois.edu/DragTPTMay2014.pdf) measuring the drag coefficient. I hope to provide value to the baseball community by combining my interests of weather and baseball."
   ]
  },
  {
   "attachments": {},
   "cell_type": "markdown",
   "metadata": {},
   "source": [
    "## **Variables**\n",
    "Descriptions taken from the Kagan and Nathan's Paper. The following is a list of the important variable to understand for this notebook.\n",
    "\n",
    "*   **Altitude** - Altitude is a distance measurement, usually in the vertical or \"up\" direction, between a reference datum and sea level. \n",
    "\n",
    "*   **Average Humidity** - Average Humidity is a measure of the amount of water vapor in the air throughout a day. Relative humidity is the ratio of the actual vapor pressure of water vapor to the saturation vapor pressure of water. In other words, it's how much water is in the air divided by the most water that could possibly be there. For example, if it's 97% relative humidity outside, that means the air only needs 3% more water vapor to achieve complete saturation of 100%. \n",
    "\n",
    "*   **Air Pressure** - Air pressure is the force exerted by air on any surface it touches. It's also known as atmospheric pressure or barometric pressure. Air pressure is caused by the weight of air molecules pressing down on the Earth. The pressure changes as you move upward from sea level into the atmosphere. The highest pressure is at sea level where the density of the air molecules is the greatest. \n",
    "\n",
    "*   **Air Density** - Air density is the mass of air per unit volume, or how much a certain volume of air weighs. It's denoted by the Greek letter rho, ρ. Air density depends on the temperature, pressure, and humidity of the air. Air density decreases with increasing altitude because there's less air pushing down from above and gravity is weaker farther from Earth's center.\n",
    "\n",
    "*   **Drag Length** - Drag is a force exerted by a fluid stream on an object moving through it or on any obstacle in its path. Drag can also be called fluid resistance. \n",
    "\n",
    "*   **Drag Coefficient** - The drag coefficient, or CD, is a dimensionless quantity that quantifies the drag or resistance of an object in a fluid environment, such as air or water. It's a value that demonstrates how streamlined an object is and how much it is affected by drag. The lower the value, the lower the effects of drag will be on that object. \n"
   ]
  },
  {
   "attachments": {},
   "cell_type": "markdown",
   "metadata": {},
   "source": [
    "# **Installation**\n",
    "\n",
    "The following installs the necessary packages."
   ]
  },
  {
   "cell_type": "code",
   "execution_count": 1,
   "metadata": {},
   "outputs": [],
   "source": [
    "import numpy as np"
   ]
  },
  {
   "attachments": {},
   "cell_type": "markdown",
   "metadata": {},
   "source": [
    "# **Drag Length Equation (6)**\n",
    "\n",
    "Given Weight of a Baseball, Circumference of a Baseball, and Air Density\n",
    "\n",
    "\n",
    "\n",
    "\n",
    "$$\\delta = \\frac{8\\  \\pi\\ W}\n",
    "{P_{e}\\ c^2} $$"
   ]
  },
  {
   "cell_type": "code",
   "execution_count": 2,
   "metadata": {},
   "outputs": [],
   "source": [
    "def Drag_Length_Equation(Weight_lbs, Circumference, Air_Density_lbsft3):\n",
    "    return (8*np.pi*Weight_lbs)/(Air_Density_lbsft3*np.square(Circumference))"
   ]
  },
  {
   "cell_type": "code",
   "execution_count": 3,
   "metadata": {},
   "outputs": [
    {
     "data": {
      "text/plain": [
       "186.39834483802875"
      ]
     },
     "execution_count": 3,
     "metadata": {},
     "output_type": "execute_result"
    }
   ],
   "source": [
    "Weight_lbs         = 0.32   # Baseball Weight in lbs\n",
    "Circumference      = 0.76   # Baseball Circumference in feet\n",
    "Air_Density_lbsft3 = 0.0747 # lb/ft^3 Air Density\n",
    "\n",
    "s = Drag_Length_Equation(Weight_lbs, Circumference, Air_Density_lbsft3)\n",
    "s # Drag_Length"
   ]
  },
  {
   "attachments": {},
   "cell_type": "markdown",
   "metadata": {},
   "source": [
    "# **Drag Coefficient Equation (3)**\n",
    "\n",
    "Given Drag Length, ay, and v0y\n",
    "\n",
    "$$ C_{d} =  \\delta \\frac{a_{y}}\n",
    "{v0_{y}^2} $$"
   ]
  },
  {
   "cell_type": "code",
   "execution_count": 4,
   "metadata": {},
   "outputs": [],
   "source": [
    "def Drag_CoeF(s, v0y, ay):\n",
    "    return (s * (ay/np.square(v0y)))"
   ]
  },
  {
   "attachments": {},
   "cell_type": "markdown",
   "metadata": {},
   "source": [
    "**Initial Position**\n",
    "\n",
    "$$ r_{0} =  (-1.566ft)\\hat{x} + (50.000ft)\\hat{y} + (5.780ft)\\hat{z} $$"
   ]
  },
  {
   "cell_type": "code",
   "execution_count": 5,
   "metadata": {},
   "outputs": [],
   "source": [
    "r0x =  -1.566\n",
    "r0y =  50.000\n",
    "r0z =   5.780"
   ]
  },
  {
   "attachments": {},
   "cell_type": "markdown",
   "metadata": {},
   "source": [
    "**Initial velocity**\n",
    "\n",
    "$$ v_{0} =  (2.631 \\frac{ft}{s})\\hat{x} + (-122.644\\frac{ft}{s})\\hat{y} + (-3.435\\frac{ft}{s})\\hat{z} $$"
   ]
  },
  {
   "cell_type": "code",
   "execution_count": 6,
   "metadata": {},
   "outputs": [],
   "source": [
    "v0x =    2.631\n",
    "v0y = -122.644\n",
    "v0z =   -3.435"
   ]
  },
  {
   "attachments": {},
   "cell_type": "markdown",
   "metadata": {},
   "source": [
    "**Acceleration Vector**\n",
    "\n",
    "$$ a =  (-6.387 \\frac{ft}{s^2})\\hat{x} + (25.067\\frac{ft}{s^2})\\hat{y} + (-21.810\\frac{ft}{s^2})\\hat{z} $$"
   ]
  },
  {
   "cell_type": "code",
   "execution_count": 7,
   "metadata": {},
   "outputs": [],
   "source": [
    "ax =  -6.387\n",
    "ay =  25.067\n",
    "az = -21.810"
   ]
  },
  {
   "cell_type": "code",
   "execution_count": 8,
   "metadata": {},
   "outputs": [
    {
     "data": {
      "text/plain": [
       "0.3106360103464578"
      ]
     },
     "execution_count": 8,
     "metadata": {},
     "output_type": "execute_result"
    }
   ],
   "source": [
    "Weight_lbs         = 0.32   # Baseball Weight in lbs\n",
    "Circumference      = 0.76   # Baseball Circumference in feet\n",
    "Air_Density_lbsft3 = 0.0747 # Air Density in lb/ft^3 \n",
    "\n",
    "s = Drag_Length_Equation(Weight_lbs, Circumference, Air_Density_lbsft3)\n",
    "\n",
    "cd = Drag_CoeF(s, v0y, ay)\n",
    "cd # Drag Coefficient"
   ]
  },
  {
   "attachments": {},
   "cell_type": "markdown",
   "metadata": {},
   "source": [
    "## **Future Analysis**\n",
    "\n",
    "In the future, I plan to use temperature, average humidity, and altitude to [calucalte a more accurate air density](https://www.engineersedge.com/calculators/air-density.htm) using [live weather data](https://barometricpressure.app/denver)."
   ]
  },
  {
   "cell_type": "code",
   "execution_count": 9,
   "metadata": {},
   "outputs": [],
   "source": [
    "# custom_air_density(95F, 35% humidity, 5184 ft) = 0.058 lb/f\n",
    "\n",
    "# custom_air_density(48F, 35% humidity, 63 ft)   = 0.077 lb/ft3"
   ]
  }
 ],
 "metadata": {
  "kernelspec": {
   "display_name": "Python 3",
   "language": "python",
   "name": "python3"
  },
  "language_info": {
   "codemirror_mode": {
    "name": "ipython",
    "version": 3
   },
   "file_extension": ".py",
   "mimetype": "text/x-python",
   "name": "python",
   "nbconvert_exporter": "python",
   "pygments_lexer": "ipython3",
   "version": "3.11.1"
  },
  "orig_nbformat": 4
 },
 "nbformat": 4,
 "nbformat_minor": 2
}
