{
 "cells": [
  {
   "attachments": {},
   "cell_type": "markdown",
   "metadata": {},
   "source": [
    "# add weights to pipelines"
   ]
  },
  {
   "attachments": {},
   "cell_type": "markdown",
   "metadata": {},
   "source": [
    "# **Distance Predictor Part 4**\n",
    "Author: Declan Costello\n",
    "\n",
    "Date: 8/10/2023"
   ]
  },
  {
   "attachments": {},
   "cell_type": "markdown",
   "metadata": {},
   "source": [
    "## **Part 4 Description**\n",
    "\n",
    "Here I Create pipelines with Imputation, Scalling, One Hot encoding, and then use grid search for hyper parameter tuning utilizing the new features created in part 3"
   ]
  },
  {
   "attachments": {},
   "cell_type": "markdown",
   "metadata": {},
   "source": [
    "## **Table of Context**\n",
    "\n",
    "1. [Installation](#Installation)\n",
    "2. [Machine Learning](#Machine-Learning)\n",
    "3. [Grid Search](#Grid-Search)\n",
    "4. [Random Search](#Random-Search)\n",
    "5. [Results](#Results)\n",
    "6. [Future Analysis](#Future-Analysis)"
   ]
  },
  {
   "attachments": {},
   "cell_type": "markdown",
   "metadata": {},
   "source": [
    "# **Installation**\n",
    "\n",
    "The following installs the necessary packages"
   ]
  },
  {
   "cell_type": "code",
   "execution_count": null,
   "metadata": {},
   "outputs": [],
   "source": [
    "import numpy as np\n",
    "import pandas as pd\n",
    "import seaborn as sns\n",
    "from sklearn import set_config\n",
    "import matplotlib.pyplot as plt\n",
    "from sklearn.impute import SimpleImputer\n",
    "from sklearn.compose import ColumnTransformer\n",
    "from sklearn.pipeline import Pipeline, make_pipeline\n",
    "from sklearn.model_selection import train_test_split, GridSearchCV\n",
    "from sklearn.metrics import mean_absolute_error, mean_squared_error\n",
    "from sklearn.linear_model import LogisticRegression, LinearRegression\n",
    "from sklearn.ensemble import RandomForestRegressor, RandomForestClassifier\n",
    "from sklearn.preprocessing import  StandardScaler, MinMaxScaler, OneHotEncoder, PolynomialFeatures, Imputer"
   ]
  },
  {
   "cell_type": "code",
   "execution_count": null,
   "metadata": {},
   "outputs": [],
   "source": [
    "data = pd.read_csv('feature_engineered_data.csv')"
   ]
  },
  {
   "attachments": {},
   "cell_type": "markdown",
   "metadata": {},
   "source": [
    "# **Machine Learning**"
   ]
  },
  {
   "attachments": {},
   "cell_type": "markdown",
   "metadata": {},
   "source": [
    "# **Train Test Split**"
   ]
  },
  {
   "cell_type": "code",
   "execution_count": null,
   "metadata": {},
   "outputs": [],
   "source": [
    "feature_cols = ['launch_angle', 'launch_speed', 'spray_angle', 'Barrel', 'domed', 'game_elevation', 'grouped_pitch_type', 'fav_platoon_split_for_batter', 'pull_percent']\n",
    "#incudle \"stand\", \"p_throws\" but one hot encode them....\n",
    "X = data.loc[:, feature_cols]\n",
    "\n",
    "target_cols = ['hit_distance_sc']\n",
    "y = data.loc[:, target_cols]\n",
    "\n",
    "X_train, X_valid, y_train, y_valid = train_test_split(X, y, train_size=0.8, test_size=0.2,random_state=0)"
   ]
  },
  {
   "attachments": {},
   "cell_type": "markdown",
   "metadata": {},
   "source": [
    "**Random Forest Regressor No Scaler**"
   ]
  },
  {
   "cell_type": "code",
   "execution_count": null,
   "metadata": {},
   "outputs": [],
   "source": [
    "model = RandomForestRegressor(n_estimators=100, random_state=0)\n",
    "\n",
    "model.fit(X_train, y_train)\n",
    "preds = model.predict(X_valid)\n",
    "\n",
    "RandomForestRegressor_no_scaler_mean_absolute_error =  mean_absolute_error(y_valid, preds)\n",
    "RandomForestRegressor_no_scaler_mean_squared_error = mean_squared_error(y_valid, preds)\n",
    "RandomForestRegressor_no_scaler_model_score = model.score(X_valid, y_valid)\n",
    "\n",
    "RandomForestRegressor_no_scaler_mean_absolute_error"
   ]
  },
  {
   "attachments": {},
   "cell_type": "markdown",
   "metadata": {},
   "source": [
    "**Random Forest Regressor Standard Scaler**\n",
    "\n",
    "for 0 to 1 vals"
   ]
  },
  {
   "cell_type": "code",
   "execution_count": null,
   "metadata": {},
   "outputs": [],
   "source": [
    "numeric_features = ['launch_angle', 'launch_speed', 'spray_angle', 'Barrel', 'domed', 'game_elevation', 'grouped_pitch_type', 'fav_platoon_split_for_batter', 'pull_percent']\n",
    "numeric_transformer = Pipeline(steps=[\n",
    "    (\"imputer\", SimpleImputer(strategy=\"mean\")),\n",
    "    (\"scaler\", StandardScaler())\n",
    "])\n",
    "\n",
    "\n",
    "categorical_features = [\"stand\", \"p_throws\"]\n",
    "categorical_transformer = OneHotEncoder(handle_unknown=\"ignore\")\n",
    "\n",
    "\n",
    "preprocessor = ColumnTransformer(transformers=[\n",
    "    (\"num_transform\", numeric_transformer, numeric_features),\n",
    "    (\"cat_transform\", categorical_transformer, categorical_features)\n",
    "])\n",
    "\n",
    "\n",
    "pipeline = Pipeline(steps=[(\n",
    "    \"preprocesser\", preprocessor), \n",
    "    (\"Random Forest Regressor\", RandomForestRegressor())])\n",
    "\n",
    "\n",
    "set_config(display='diagram')\n",
    "\n",
    "pipeline"
   ]
  },
  {
   "cell_type": "code",
   "execution_count": null,
   "metadata": {},
   "outputs": [],
   "source": [
    "feature_cols = ['launch_angle', 'launch_speed', 'spray_angle', 'Barrel', 'domed', 'game_elevation', 'grouped_pitch_type', 'fav_platoon_split_for_batter','stand','p_throws','pull_percent']\n",
    "X = data.loc[:, feature_cols]\n",
    "\n",
    "target_cols = ['hit_distance_sc']\n",
    "y = data.loc[:, target_cols]\n",
    "\n",
    "X_train, X_valid, y_train, y_valid = train_test_split(X, y, train_size=0.8, test_size=0.2,random_state=0)\n",
    "\n",
    "pipeline.fit(X_train, y_train)\n",
    "\n",
    "pipeline.score(X_valid, y_valid)"
   ]
  },
  {
   "cell_type": "code",
   "execution_count": null,
   "metadata": {},
   "outputs": [],
   "source": [
    "preds = pipeline.predict(X_valid)\n",
    "\n",
    "RandomForestRegressor_mean_absolute_error =  mean_absolute_error(y_valid, preds)\n",
    "\n",
    "RandomForestRegressor_mean_absolute_error"
   ]
  },
  {
   "attachments": {},
   "cell_type": "markdown",
   "metadata": {},
   "source": [
    "**Random Forest Regressor MinMax Scaler**\n",
    "\n",
    "no negative numbers"
   ]
  },
  {
   "cell_type": "code",
   "execution_count": null,
   "metadata": {},
   "outputs": [],
   "source": [
    "pipeline = Pipeline([\n",
    "(\"MinMax Scaling\", MinMaxScaler()), \n",
    "(\"Linear Regression\", RandomForestRegressor())\n",
    "])\n",
    "\n",
    "pipeline.fit(X_train, y_train)\n",
    "preds = pipeline.predict(X_valid)\n",
    "\n",
    "RandomForestRegressor_minmax_scaler_mean_squared_error = mean_squared_error(y_valid, preds)\n",
    "RandomForestRegressor_minmax_scaler_mean_absolute_error =  mean_absolute_error(y_valid, preds)\n",
    "RandomForestRegressor_minmax_scaler_model_score = pipeline.score(X_valid, y_valid)"
   ]
  },
  {
   "attachments": {},
   "cell_type": "markdown",
   "metadata": {},
   "source": [
    "# **NON Hyper Parameter Results**"
   ]
  },
  {
   "cell_type": "code",
   "execution_count": null,
   "metadata": {},
   "outputs": [],
   "source": [
    "results_df = pd.DataFrame(columns=['Model','Mean Squared Error','Mean Absolute Error','Model Score'])\n",
    "\n",
    "results_df.loc[0] = ['Random Forest Regressor No Scaler', RandomForestRegressor_no_scaler_mean_squared_error, RandomForestRegressor_no_scaler_mean_absolute_error, RandomForestRegressor_no_scaler_model_score]  \n",
    "\n",
    "results_df.loc[1] = ['Random Forest Regressor Standard Scaler', RandomForestRegressor_standard_scaler_mean_squared_error, RandomForestRegressor_standard_scaler_mean_absolute_error, RandomForestRegressor_standard_scaler_model_score]  \n",
    "\n",
    "results_df.loc[2] = ['Random Forest Regressor MinMax Scaler', RandomForestRegressor_minmax_scaler_mean_squared_error, RandomForestRegressor_minmax_scaler_mean_absolute_error, RandomForestRegressor_minmax_scaler_model_score]  # adding a row\n",
    "\n",
    "results_df"
   ]
  },
  {
   "cell_type": "code",
   "execution_count": null,
   "metadata": {},
   "outputs": [],
   "source": [
    "#only turning off for graph\n",
    "import warnings\n",
    "warnings.filterwarnings(\"ignore\")\n",
    "\n",
    "plt.figure(figsize=(50,5))\n",
    "\n",
    "fig, axes = plt.subplots(1, 3, figsize=(35, 7))\n",
    "\n",
    "plt.subplot(141)\n",
    "sns.barplot(data=results_df, x=\"Model\", y=\"Mean Squared Error\", palette='viridis')\n",
    "plt.title('Mean Squared Error')\n",
    "\n",
    "plt.subplot(142)\n",
    "sns.barplot(data=results_df, x=\"Model\", y=\"Mean Absolute Error\", palette='viridis')\n",
    "plt.title('Mean Absolute Error')\n",
    "\n",
    "plt.subplot(143)\n",
    "sns.barplot(data=results_df, x=\"Model\", y=\"Model Score\", palette='viridis')\n",
    "plt.title('Model Score')\n",
    "\n",
    "plt.show()"
   ]
  },
  {
   "attachments": {},
   "cell_type": "markdown",
   "metadata": {},
   "source": [
    "# **HyperParameter Tuning**"
   ]
  },
  {
   "attachments": {},
   "cell_type": "markdown",
   "metadata": {},
   "source": [
    "# **1st Successful GridSearch**"
   ]
  },
  {
   "cell_type": "code",
   "execution_count": null,
   "metadata": {},
   "outputs": [],
   "source": [
    "param_grid = {'n_estimators': ([50,100,150]),\n",
    "              'max_depth':[2,4,6], \n",
    "              'random_state':[0,1]}\n",
    "\n",
    "grid = GridSearchCV(RandomForestRegressor(), param_grid)\n",
    "\n",
    "grid.fit(X_train, y_train)"
   ]
  },
  {
   "cell_type": "code",
   "execution_count": null,
   "metadata": {},
   "outputs": [],
   "source": [
    "grid.best_params_\n"
   ]
  },
  {
   "cell_type": "code",
   "execution_count": null,
   "metadata": {},
   "outputs": [],
   "source": [
    "preds = grid.predict(X_valid)\n",
    "\n",
    "grid_lin_mean_absolute_error =  mean_absolute_error(y_valid, preds)\n",
    "\n",
    "grid_lin_mean_absolute_error"
   ]
  },
  {
   "attachments": {},
   "cell_type": "markdown",
   "metadata": {},
   "source": [
    "# **2nd Successful Grid Search**\n",
    "\n",
    "https://github.com/jakevdp/PythonDataScienceHandbook/blob/master/notebooks_v1/05.03-Hyperparameters-and-Model-Validation.ipynb\n",
    "\n",
    "same thing:\n",
    "\n",
    "https://jakevdp.github.io/PythonDataScienceHandbook/05.03-hyperparameters-and-model-validation.html"
   ]
  },
  {
   "cell_type": "code",
   "execution_count": null,
   "metadata": {},
   "outputs": [],
   "source": [
    "feature_cols = ['launch_angle', 'launch_speed', 'spray_angle', 'Barrel', 'domed', 'game_elevation', 'grouped_pitch_type', 'fav_platoon_split_for_batter', 'pull_percent']\n",
    "#incudle \"stand\", \"p_throws\" but one hot encode them....\n",
    "X = data.loc[:, feature_cols]\n",
    "\n",
    "target_cols = ['hit_distance_sc']\n",
    "y = data.loc[:, target_cols]\n",
    "\n",
    "X_train, X_valid, y_train, y_valid = train_test_split(X, y, train_size=0.8, test_size=0.2,random_state=0)"
   ]
  },
  {
   "cell_type": "code",
   "execution_count": null,
   "metadata": {},
   "outputs": [],
   "source": [
    "def PolynomialRegression(degree=2, **kwargs):\n",
    "                        #Imputer(strategy='mean'),\n",
    "    return make_pipeline(PolynomialFeatures(degree),\n",
    "                         LinearRegression(**kwargs))"
   ]
  },
  {
   "cell_type": "code",
   "execution_count": null,
   "metadata": {},
   "outputs": [],
   "source": [
    "param_grid = {'polynomialfeatures__degree': np.arange(5),\n",
    "              'linearregression__fit_intercept': [True, False]}\n",
    "\n",
    "grid = GridSearchCV(PolynomialRegression(), param_grid, cv=7)"
   ]
  },
  {
   "cell_type": "code",
   "execution_count": null,
   "metadata": {},
   "outputs": [],
   "source": [
    "grid.fit(X_train, y_train)"
   ]
  },
  {
   "cell_type": "code",
   "execution_count": null,
   "metadata": {},
   "outputs": [],
   "source": [
    "grid.best_params_\n"
   ]
  },
  {
   "cell_type": "code",
   "execution_count": null,
   "metadata": {},
   "outputs": [],
   "source": [
    "preds = grid.predict(X_valid)\n",
    "\n",
    "grid_lin_mean_absolute_error =  mean_absolute_error(y_valid, preds)\n",
    "\n",
    "grid_lin_mean_absolute_error"
   ]
  },
  {
   "attachments": {},
   "cell_type": "markdown",
   "metadata": {},
   "source": [
    "# **HYPER PARAM TODO**\n",
    "\n",
    "grid search for feats\n",
    "https://github.com/wlongxiang/mlpipeline/blob/main/ml_pipeline_with_grid_search.ipynb\n",
    "\n",
    "grid search for regression feats again: https://github.com/Andrew-Ng-s-number-one-fan/Hands-on-Machine-Learning-with-Scikit-Learn-Keras-and-TensorFlow/blob/master/Notebooks/C2_N1_Predicting%20Housing%20Price.ipynb\n",
    "\n",
    "grid search for other models\n",
    "https://scikit-learn.org/stable/auto_examples/model_selection/plot_grid_search_stats.html#sphx-glr-auto-examples-model-selection-plot-grid-search-stats-py\n",
    "\n",
    "# SVC \n",
    "https://scikit-learn.org/stable/auto_examples/model_selection/plot_grid_search_stats.html#sphx-glr-auto-examples-model-selection-plot-grid-search-stats-py\n",
    "\n",
    "https://medium.com/all-things-ai/in-depth-parameter-tuning-for-svc-758215394769"
   ]
  },
  {
   "cell_type": "code",
   "execution_count": null,
   "metadata": {},
   "outputs": [],
   "source": []
  },
  {
   "cell_type": "code",
   "execution_count": null,
   "metadata": {},
   "outputs": [],
   "source": []
  },
  {
   "attachments": {},
   "cell_type": "markdown",
   "metadata": {},
   "source": [
    "# **Random Forest Regressor Pipeline**"
   ]
  },
  {
   "cell_type": "code",
   "execution_count": null,
   "metadata": {},
   "outputs": [],
   "source": [
    "numeric_features = ['launch_angle', 'launch_speed', 'spray_angle', 'Barrel', 'domed', 'game_elevation', 'grouped_pitch_type', 'fav_platoon_split_for_batter', 'pull_percent']\n",
    "numeric_transformer = Pipeline(steps=[\n",
    "    (\"imputer\", SimpleImputer(strategy=\"mean\")),\n",
    "    (\"scaler\", StandardScaler())\n",
    "])\n",
    "\n",
    "\n",
    "categorical_features = [\"stand\", \"p_throws\"]\n",
    "categorical_transformer = OneHotEncoder(handle_unknown=\"ignore\")\n",
    "\n",
    "\n",
    "preprocessor = ColumnTransformer(transformers=[\n",
    "    (\"num_transform\", numeric_transformer, numeric_features),\n",
    "    (\"cat_transform\", categorical_transformer, categorical_features)\n",
    "])\n",
    "\n",
    "\n",
    "pipeline = Pipeline(steps=[(\n",
    "    \"preprocesser\", preprocessor), \n",
    "    (\"Random Forest Regressor\", RandomForestRegressor())])\n",
    "\n",
    "\n",
    "set_config(display='diagram')\n",
    "\n",
    "pipeline"
   ]
  },
  {
   "cell_type": "code",
   "execution_count": null,
   "metadata": {},
   "outputs": [],
   "source": [
    "param_grid = [\n",
    "\n",
    "    {\n",
    "        \"preprocesser__num_transform__imputer__strategy\": [\"mean\", \"median\"],\n",
    "        \"classifier__n_estimators\": [10, 100, 1000],\n",
    "        \"classifier\": [RandomForestRegressor()]\n",
    "    }\n",
    "]"
   ]
  },
  {
   "cell_type": "code",
   "execution_count": null,
   "metadata": {},
   "outputs": [],
   "source": [
    "grid_search = GridSearchCV(pipeline, param_grid, cv=10, verbose=1,n_jobs=-1)\n",
    "grid_search.fit(X_train, y_train)"
   ]
  },
  {
   "cell_type": "code",
   "execution_count": null,
   "metadata": {},
   "outputs": [],
   "source": [
    "print(f\"Best params:\")\n",
    "print(grid_search.best_params_)\n",
    "print(\"Best score in grid search:\")\n",
    "print(grid_search.best_score_)\n",
    "print(\"best logistic regression from grid search:\")\n",
    "#print(grid_search.score(X_test, y_test))"
   ]
  },
  {
   "cell_type": "code",
   "execution_count": null,
   "metadata": {},
   "outputs": [],
   "source": [
    "https://stackoverflow.com/questions/60786220/attributeerror-gridsearchcv-object-has-no-attribute-best-params\n",
    "\n",
    "best_ = GridSearchCV(pipeline, param_grid, refit=False, n_jobs=-1).fit(X_train, y_train).best_estimator_   # <---- OK\n",
    "best_\n"
   ]
  },
  {
   "attachments": {},
   "cell_type": "markdown",
   "metadata": {},
   "source": [
    "# **Future Analysis**"
   ]
  },
  {
   "attachments": {},
   "cell_type": "markdown",
   "metadata": {},
   "source": [
    "In the future hope to try hyper param tuning with a classfication project instead of a regression project\n",
    "\n",
    "classifiyying grid search: \n",
    "\n",
    "https://towardsdatascience.com/gridsearchcv-for-beginners-db48a90114ee\n",
    "\n",
    "https://github.com/BindiChen/machine-learning/blob/main/traditional-machine-learning/005-grid-search-vs-random-search-vs-bayes-search/gridsearch-vs-randomsearch-vs-bayessearch.ipynb\n",
    "\n",
    "classifing grid search hyper param for best classifying model\n",
    "\n",
    "https://github.com/tjburch/mlb-hit-classifier/blob/master/notebooks/2-added-variables.ipynb"
   ]
  },
  {
   "attachments": {},
   "cell_type": "markdown",
   "metadata": {},
   "source": [
    "# **Random**"
   ]
  },
  {
   "cell_type": "markdown",
   "metadata": {},
   "source": []
  },
  {
   "cell_type": "markdown",
   "metadata": {},
   "source": []
  },
  {
   "cell_type": "markdown",
   "metadata": {},
   "source": []
  },
  {
   "cell_type": "markdown",
   "metadata": {},
   "source": []
  }
 ],
 "metadata": {
  "language_info": {
   "name": "python"
  },
  "orig_nbformat": 4
 },
 "nbformat": 4,
 "nbformat_minor": 2
}
